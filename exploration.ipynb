{
 "cells": [
  {
   "cell_type": "code",
   "execution_count": 6,
   "metadata": {},
   "outputs": [],
   "source": [
    "import pandas as pd\n",
    "\n",
    "cyber_df = pd.read_csv(\"data/cyber-operations-incidents.csv\")"
   ]
  },
  {
   "cell_type": "code",
   "execution_count": 7,
   "metadata": {},
   "outputs": [
    {
     "data": {
      "text/plain": [
       "(768, 12)"
      ]
     },
     "execution_count": 7,
     "metadata": {},
     "output_type": "execute_result"
    }
   ],
   "source": [
    "cyber_df.shape"
   ]
  },
  {
   "cell_type": "code",
   "execution_count": 8,
   "metadata": {},
   "outputs": [
    {
     "data": {
      "text/html": [
       "<div>\n",
       "<style scoped>\n",
       "    .dataframe tbody tr th:only-of-type {\n",
       "        vertical-align: middle;\n",
       "    }\n",
       "\n",
       "    .dataframe tbody tr th {\n",
       "        vertical-align: top;\n",
       "    }\n",
       "\n",
       "    .dataframe thead th {\n",
       "        text-align: right;\n",
       "    }\n",
       "</style>\n",
       "<table border=\"1\" class=\"dataframe\">\n",
       "  <thead>\n",
       "    <tr style=\"text-align: right;\">\n",
       "      <th></th>\n",
       "      <th>Title</th>\n",
       "      <th>Date</th>\n",
       "      <th>Affiliations</th>\n",
       "      <th>Description</th>\n",
       "      <th>Response</th>\n",
       "      <th>Victims</th>\n",
       "      <th>Sponsor</th>\n",
       "      <th>Type</th>\n",
       "      <th>Category</th>\n",
       "      <th>Sources_1</th>\n",
       "      <th>Sources_2</th>\n",
       "      <th>Sources_3</th>\n",
       "    </tr>\n",
       "  </thead>\n",
       "  <tbody>\n",
       "    <tr>\n",
       "      <th>count</th>\n",
       "      <td>768</td>\n",
       "      <td>753</td>\n",
       "      <td>621</td>\n",
       "      <td>768</td>\n",
       "      <td>186</td>\n",
       "      <td>741</td>\n",
       "      <td>728</td>\n",
       "      <td>731</td>\n",
       "      <td>743</td>\n",
       "      <td>763</td>\n",
       "      <td>488</td>\n",
       "      <td>190</td>\n",
       "    </tr>\n",
       "    <tr>\n",
       "      <th>unique</th>\n",
       "      <td>764</td>\n",
       "      <td>603</td>\n",
       "      <td>377</td>\n",
       "      <td>767</td>\n",
       "      <td>128</td>\n",
       "      <td>657</td>\n",
       "      <td>61</td>\n",
       "      <td>12</td>\n",
       "      <td>35</td>\n",
       "      <td>715</td>\n",
       "      <td>470</td>\n",
       "      <td>186</td>\n",
       "    </tr>\n",
       "    <tr>\n",
       "      <th>top</th>\n",
       "      <td>Targeting of Southeast Asian telecommunication...</td>\n",
       "      <td>10/4/2018</td>\n",
       "      <td>Lazarus Group</td>\n",
       "      <td>Chinese threat actors targeted the Belgian Fed...</td>\n",
       "      <td>Unknown</td>\n",
       "      <td>United States</td>\n",
       "      <td>China</td>\n",
       "      <td>Espionage</td>\n",
       "      <td>Private sector</td>\n",
       "      <td>https://blogs.microsoft.com/on-the-issues/2020...</td>\n",
       "      <td>https://www.bleepingcomputer.com/news/security...</td>\n",
       "      <td>https://www.fireeye.com/content/dam/fireeye-ww...</td>\n",
       "    </tr>\n",
       "    <tr>\n",
       "      <th>freq</th>\n",
       "      <td>2</td>\n",
       "      <td>6</td>\n",
       "      <td>26</td>\n",
       "      <td>2</td>\n",
       "      <td>47</td>\n",
       "      <td>21</td>\n",
       "      <td>263</td>\n",
       "      <td>608</td>\n",
       "      <td>199</td>\n",
       "      <td>5</td>\n",
       "      <td>3</td>\n",
       "      <td>2</td>\n",
       "    </tr>\n",
       "  </tbody>\n",
       "</table>\n",
       "</div>"
      ],
      "text/plain": [
       "                                                    Title       Date  \\\n",
       "count                                                 768        753   \n",
       "unique                                                764        603   \n",
       "top     Targeting of Southeast Asian telecommunication...  10/4/2018   \n",
       "freq                                                    2          6   \n",
       "\n",
       "         Affiliations                                        Description  \\\n",
       "count             621                                                768   \n",
       "unique            377                                                767   \n",
       "top     Lazarus Group  Chinese threat actors targeted the Belgian Fed...   \n",
       "freq               26                                                  2   \n",
       "\n",
       "       Response        Victims Sponsor       Type        Category  \\\n",
       "count       186            741     728        731             743   \n",
       "unique      128            657      61         12              35   \n",
       "top     Unknown  United States   China  Espionage  Private sector   \n",
       "freq         47             21     263        608             199   \n",
       "\n",
       "                                                Sources_1  \\\n",
       "count                                                 763   \n",
       "unique                                                715   \n",
       "top     https://blogs.microsoft.com/on-the-issues/2020...   \n",
       "freq                                                    5   \n",
       "\n",
       "                                                Sources_2  \\\n",
       "count                                                 488   \n",
       "unique                                                470   \n",
       "top     https://www.bleepingcomputer.com/news/security...   \n",
       "freq                                                    3   \n",
       "\n",
       "                                                Sources_3  \n",
       "count                                                 190  \n",
       "unique                                                186  \n",
       "top     https://www.fireeye.com/content/dam/fireeye-ww...  \n",
       "freq                                                    2  "
      ]
     },
     "execution_count": 8,
     "metadata": {},
     "output_type": "execute_result"
    }
   ],
   "source": [
    "cyber_df.describe()"
   ]
  },
  {
   "cell_type": "code",
   "execution_count": 11,
   "metadata": {},
   "outputs": [
    {
     "data": {
      "text/plain": [
       "Title           object\n",
       "Date            object\n",
       "Affiliations    object\n",
       "Description     object\n",
       "Response        object\n",
       "Victims         object\n",
       "Sponsor         object\n",
       "Type            object\n",
       "Category        object\n",
       "Sources_1       object\n",
       "Sources_2       object\n",
       "Sources_3       object\n",
       "dtype: object"
      ]
     },
     "execution_count": 11,
     "metadata": {},
     "output_type": "execute_result"
    }
   ],
   "source": [
    "cyber_df.dtypes"
   ]
  }
 ],
 "metadata": {
  "kernelspec": {
   "display_name": "base",
   "language": "python",
   "name": "python3"
  },
  "language_info": {
   "codemirror_mode": {
    "name": "ipython",
    "version": 3
   },
   "file_extension": ".py",
   "mimetype": "text/x-python",
   "name": "python",
   "nbconvert_exporter": "python",
   "pygments_lexer": "ipython3",
   "version": "3.10.11"
  },
  "orig_nbformat": 4
 },
 "nbformat": 4,
 "nbformat_minor": 2
}
